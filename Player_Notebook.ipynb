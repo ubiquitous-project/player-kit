{
 "cells": [
  {
   "cell_type": "code",
   "execution_count": 17,
   "metadata": {},
   "outputs": [],
   "source": [
    "# please write your player id\n",
    "player_id = '1'"
   ]
  },
  {
   "cell_type": "code",
   "execution_count": 18,
   "metadata": {},
   "outputs": [],
   "source": [
    "import os \n",
    "\n",
    "PATH = os.path.join(os.getcwd(),'kidney-game')\n",
    "\n",
    "p_PATH = os.path.join(PATH,'player'+player_id)\n",
    "\n",
    "git_dir = \"https://github.com/jjbl99/kidney-game.git\" # address of your repo on git\n",
    "\n",
    "import importlib\n",
    "import sys \n",
    "# sys.path.append(PATH)\n",
    "sys.path.append('./kidney-game')\n",
    "\n",
    "import git\n",
    "from git import Repo\n",
    "\n",
    "if not os.path.exists(PATH):\n",
    "    Repo.clone_from(git_dir, PATH)\n",
    "\n",
    "import PUBLIC_market\n",
    "importlib.reload(PUBLIC_market)\n",
    "from PUBLIC_market import *\n",
    "\n",
    "repo = Repo(PATH) # create an object \"repo\" that corresponds to your local repository\n",
    "PUBLIC_market.init(repo, PATH)"
   ]
  },
  {
   "cell_type": "markdown",
   "metadata": {},
   "source": [
    "# Optimization Functions \n",
    "### (Coded by the student)"
   ]
  },
  {
   "cell_type": "code",
   "execution_count": 19,
   "metadata": {},
   "outputs": [
    {
     "ename": "ModuleNotFoundError",
     "evalue": "No module named 'gurobipy'",
     "output_type": "error",
     "traceback": [
      "\u001b[0;31m---------------------------------------------------------------------------\u001b[0m",
      "\u001b[0;31mModuleNotFoundError\u001b[0m                       Traceback (most recent call last)",
      "\u001b[0;32m<ipython-input-19-350d47532d94>\u001b[0m in \u001b[0;36m<module>\u001b[0;34m\u001b[0m\n\u001b[0;32m----> 1\u001b[0;31m \u001b[0;32mimport\u001b[0m \u001b[0mgurobipy\u001b[0m \u001b[0;32mas\u001b[0m \u001b[0mgp\u001b[0m\u001b[0;34m\u001b[0m\u001b[0;34m\u001b[0m\u001b[0m\n\u001b[0m\u001b[1;32m      2\u001b[0m \u001b[0;32mfrom\u001b[0m \u001b[0mgurobipy\u001b[0m \u001b[0;32mimport\u001b[0m \u001b[0mGRB\u001b[0m\u001b[0;34m\u001b[0m\u001b[0;34m\u001b[0m\u001b[0m\n",
      "\u001b[0;31mModuleNotFoundError\u001b[0m: No module named 'gurobipy'"
     ]
    }
   ],
   "source": [
    "import gurobipy as gp\n",
    "from gurobipy import GRB"
   ]
  },
  {
   "cell_type": "code",
   "execution_count": 20,
   "metadata": {},
   "outputs": [],
   "source": [
    "# What the student would have to code\n",
    "\n",
    "def intlinprogGurobi(w,A,b,lb,ub,N,mute=1): \n",
    "    #misses Aeq, beq, options, and intcon from original matlab code \n",
    "    m = gp.Model(\"model\")\n",
    "    x = m.addMVar(shape=N, lb=lb, ub=ub, vtype=GRB.BINARY, name=\"x\")\n",
    "    if mute: \n",
    "        m.setParam('OutputFlag', 0)\n",
    "    # Set objective\n",
    "    m.setObjective(w @ x, GRB.MINIMIZE)\n",
    "    \n",
    "    # add constraints \n",
    "    m.addConstr((A @ x) <= b, name=\"c\")\n",
    "    \n",
    "    # Optimize model\n",
    "    m.optimize()\n",
    "    match = x.X\n",
    "\n",
    "    return match.astype(int)\n",
    "\n",
    "def f_weights(G_coord):\n",
    "    return - np.ones(G_coord.shape[0])\n",
    "\n",
    "def recursive_KEP(G_coord,G,n,K,L,M,NDD): \n",
    "    \"\"\"\n",
    "    Recursive KEP algorithm from Anderson, Ashlagi et al (2014)\n",
    "    Function that returns the optimal kidney exchange for a given compatibility graph\n",
    "    \n",
    "    G: n*n adjacency matrix where G(i,j) means that donor i can give to patient j\n",
    "    K: max length of cycles to use\n",
    "    L: max length of chains to use \n",
    "    M: max number of chains to use\n",
    "    f_weights: function that takes G as an argument and returns a matrix w of weights of size n*n\n",
    "    NDD: list of indexes of donors that are connected to a NDD\n",
    "    \"\"\"\n",
    "    \n",
    "    ## Initialization\n",
    "    k = NDD.size # number of NDDs\n",
    "    e = G_coord.shape[0]\n",
    "    N = e + k # number of variables to study\n",
    "    \n",
    "    ## plot initial graph \n",
    "    # show_graph(G,NDD)\n",
    "    \n",
    "    # Complete the coordinate representation of my graph\n",
    "    if k > 0:\n",
    "        G_coord = np.concatenate((G_coord, np.concatenate((np.arange(n,n+k)[:,np.newaxis], NDD[:,np.newaxis]),axis=1)), axis = 0) # we add the NDDs here\n",
    "    ## Construct constraint matrices A and b\n",
    "    Minf = int(M != inf)\n",
    "    A = np.zeros((2*n+k+Minf,N))\n",
    "    r1 = np.concatenate((G_coord[:e,1], n+G_coord[:e,0], n+G_coord[0:e,1]), axis = 0) \n",
    "    c1 = np.repeat(np.arange(0,e)[:,np.newaxis],3,axis =1).T.reshape(-1)\n",
    "    A[r1, c1] = np.concatenate((np.ones(2*e), -np.ones(e)))\n",
    "    \n",
    "    A[G_coord[e:N,1],np.arange(e,N)] = 1 # need to make sure that no NDD goes into a cycle\n",
    "    A[n+G_coord[e:N,1], np.arange(e,N)] = -1\n",
    "    # Add constraint that flow out of a NDD is less than the flow out the pair he gives to \n",
    "    A[np.arange(2*n,2*n+k), np.arange(e,N)] = 1\n",
    "    positions = (np.repeat(NDD[:,np.newaxis],e,axis=1).T == np.repeat(G_coord[:e,0,np.newaxis],k,axis =1)).T.astype(int) # matrix of size k*e corresponding to our constraints\n",
    "    A[(2*n):(2*n+k),:e] = - positions\n",
    "    if Minf:\n",
    "        A[-1,e:] = 1; # used for the constraint on number of chains\n",
    "        b = np.ones(2*n+k+1)\n",
    "        b[-1] = M\n",
    "        b[n:2*n+k] = 0\n",
    "    else:\n",
    "        b = np.ones(2*n+k)\n",
    "        b[n:2*n+k] = 0\n",
    "    \n",
    "    ## Initial matching without constraints on chain and cycle sizes\n",
    "    lb, ub =np.zeros(N), np.ones(N)\n",
    "    w = f_weights(G_coord) # weights\n",
    "    \n",
    "    match = intlinprogGurobi(w,A,b,lb,ub,N)\n",
    "    \n",
    "    ## Re-optimize until all chains and cycles have the desired size\n",
    "    pb = 1\n",
    "    ii = 0\n",
    "\n",
    "    while pb:\n",
    "        cycles, chains = check_match(match.copy(),G_coord,n,e,k)\n",
    "        sizeCy = np.sum(cycles, axis = 1) if cycles.size > 0 else np.array([])\n",
    "        sizeCh = np.sum(chains, axis = 1) if chains.size > 0 else np.array([])\n",
    "        maxCh = max(np.max(sizeCh),0) if sizeCh.size > 0 else 0\n",
    "        maxCy = max(np.max(sizeCy),0) if sizeCy.size > 0 else 0\n",
    "        if ((maxCh <= L) and (maxCy <= K)):\n",
    "            pb = 0\n",
    "        else:\n",
    "            idCy = sizeCy > (np.ones(sizeCy.shape)*K)\n",
    "            idCh = sizeCh > (np.ones(sizeCh.shape)*L)\n",
    "            \n",
    "            if (cycles.size != 0) and (chains.size != 0):\n",
    "                A = np.concatenate((A, cycles[idCy,:], chains[idCh,:]), axis = 0) # add constraint to eliminate chains/cycles that are too big                  \n",
    "                b = np.concatenate((b, K * np.ones(np.sum(idCy)), L * np.ones(np.sum(idCh))), axis = 0) \n",
    "            elif cycles.size != 0: \n",
    "                A = np.concatenate((A, cycles[idCy,:]), axis = 0) # add constraint to eliminate chains/cycles that are too big                  \n",
    "                b = np.concatenate((b, K * np.ones(np.sum(idCy))), axis = 0)\n",
    "            elif chains.size != 0:\n",
    "                A = np.concatenate((A, chains[idCh,:]), axis = 0) # add constraint to eliminate chains/cycles that are too big                  \n",
    "                b = np.concatenate((b, L * np.ones(np.sum(idCh))), axis = 0) \n",
    "                \n",
    "            match = intlinprogGurobi(w,A,b,lb,ub,N)\n",
    "            ii += 1\n",
    "\n",
    "    return match # cycles,chains"
   ]
  },
  {
   "cell_type": "markdown",
   "metadata": {},
   "source": [
    "## Playing the game"
   ]
  },
  {
   "cell_type": "code",
   "execution_count": 21,
   "metadata": {},
   "outputs": [],
   "source": [
    "# pull any changes\n",
    "git_pull()"
   ]
  },
  {
   "cell_type": "code",
   "execution_count": 22,
   "metadata": {},
   "outputs": [],
   "source": [
    "# initialize game\n",
    "new_game(p_PATH)"
   ]
  },
  {
   "cell_type": "code",
   "execution_count": 7,
   "metadata": {},
   "outputs": [],
   "source": [
    "# demo of the attributes and function of the class Market\n",
    "# TO DO \n",
    "# market.plot_graph()\n",
    "# market.comp_stats()"
   ]
  },
  {
   "cell_type": "code",
   "execution_count": 8,
   "metadata": {},
   "outputs": [],
   "source": [
    "# git_pull()\n",
    "# market = get_market(p_PATH)\n",
    "# make class Market and Market_nature"
   ]
  },
  {
   "cell_type": "code",
   "execution_count": 23,
   "metadata": {},
   "outputs": [
    {
     "name": "stdout",
     "output_type": "stream",
     "text": [
      "youre in\n",
      "0\n",
      "youre in\n",
      "1\n",
      "youre in\n",
      "2\n",
      "youre in\n",
      "3\n",
      "youre in\n",
      "4\n"
     ]
    },
    {
     "ename": "GitCommandError",
     "evalue": "Cmd('git') failed due to: exit code(1)\n  cmdline: git pull -v origin\n  stderr: 'fatal: unable to access 'https://github.com/jjbl99/kidney-game.git/': Failed to connect to github.com port 443: Operation timed out'",
     "output_type": "error",
     "traceback": [
      "\u001b[0;31m---------------------------------------------------------------------------\u001b[0m",
      "\u001b[0;31mGitCommandError\u001b[0m                           Traceback (most recent call last)",
      "\u001b[0;32m<ipython-input-23-a41b50244588>\u001b[0m in \u001b[0;36m<module>\u001b[0;34m\u001b[0m\n\u001b[1;32m     10\u001b[0m     \u001b[0;32mwhile\u001b[0m \u001b[0mstr\u001b[0m\u001b[0;34m(\u001b[0m\u001b[0minstruction\u001b[0m\u001b[0;34m.\u001b[0m\u001b[0msplit\u001b[0m\u001b[0;34m(\u001b[0m\u001b[0;34m)\u001b[0m\u001b[0;34m[\u001b[0m\u001b[0;36m0\u001b[0m\u001b[0;34m]\u001b[0m\u001b[0;34m)\u001b[0m \u001b[0;34m!=\u001b[0m \u001b[0;34m\"nature\"\u001b[0m\u001b[0;34m:\u001b[0m \u001b[0;31m# TRY AND READ DIRECTLY\u001b[0m\u001b[0;34m\u001b[0m\u001b[0;34m\u001b[0m\u001b[0m\n\u001b[1;32m     11\u001b[0m         \u001b[0;31m# wait until nature played\u001b[0m\u001b[0;34m\u001b[0m\u001b[0;34m\u001b[0m\u001b[0;34m\u001b[0m\u001b[0m\n\u001b[0;32m---> 12\u001b[0;31m         \u001b[0mgit_pull\u001b[0m\u001b[0;34m(\u001b[0m\u001b[0;34m)\u001b[0m\u001b[0;34m\u001b[0m\u001b[0;34m\u001b[0m\u001b[0m\n\u001b[0m\u001b[1;32m     13\u001b[0m         \u001b[0mfile\u001b[0m \u001b[0;34m=\u001b[0m \u001b[0mopen\u001b[0m\u001b[0;34m(\u001b[0m\u001b[0mos\u001b[0m\u001b[0;34m.\u001b[0m\u001b[0mpath\u001b[0m\u001b[0;34m.\u001b[0m\u001b[0mjoin\u001b[0m\u001b[0;34m(\u001b[0m\u001b[0mp_PATH\u001b[0m\u001b[0;34m,\u001b[0m\u001b[0;34m'status.txt'\u001b[0m\u001b[0;34m)\u001b[0m\u001b[0;34m,\u001b[0m\u001b[0;34m\"r\"\u001b[0m\u001b[0;34m)\u001b[0m\u001b[0;34m\u001b[0m\u001b[0;34m\u001b[0m\u001b[0m\n\u001b[1;32m     14\u001b[0m         \u001b[0minstruction\u001b[0m \u001b[0;34m=\u001b[0m \u001b[0mnext\u001b[0m\u001b[0;34m(\u001b[0m\u001b[0mfile\u001b[0m\u001b[0;34m)\u001b[0m\u001b[0;34m\u001b[0m\u001b[0;34m\u001b[0m\u001b[0m\n",
      "\u001b[0;32m~/Documents/4. Research/kidney_game/player_computer/kidney-game/PUBLIC_market.py\u001b[0m in \u001b[0;36mgit_pull\u001b[0;34m()\u001b[0m\n\u001b[1;32m     35\u001b[0m \u001b[0;32mdef\u001b[0m \u001b[0mgit_pull\u001b[0m\u001b[0;34m(\u001b[0m\u001b[0;34m)\u001b[0m\u001b[0;34m:\u001b[0m\u001b[0;34m\u001b[0m\u001b[0;34m\u001b[0m\u001b[0m\n\u001b[1;32m     36\u001b[0m     \u001b[0mo\u001b[0m \u001b[0;34m=\u001b[0m \u001b[0mrepo\u001b[0m\u001b[0;34m.\u001b[0m\u001b[0mremote\u001b[0m\u001b[0;34m(\u001b[0m\u001b[0mname\u001b[0m\u001b[0;34m=\u001b[0m\u001b[0;34m'origin'\u001b[0m\u001b[0;34m)\u001b[0m\u001b[0;34m\u001b[0m\u001b[0;34m\u001b[0m\u001b[0m\n\u001b[0;32m---> 37\u001b[0;31m     \u001b[0mo\u001b[0m\u001b[0;34m.\u001b[0m\u001b[0mpull\u001b[0m\u001b[0;34m(\u001b[0m\u001b[0;34m)\u001b[0m\u001b[0;34m\u001b[0m\u001b[0;34m\u001b[0m\u001b[0m\n\u001b[0m\u001b[1;32m     38\u001b[0m \u001b[0;34m\u001b[0m\u001b[0m\n\u001b[1;32m     39\u001b[0m \u001b[0;34m\u001b[0m\u001b[0m\n",
      "\u001b[0;32m~/opt/anaconda3/lib/python3.7/site-packages/git/remote.py\u001b[0m in \u001b[0;36mpull\u001b[0;34m(self, refspec, progress, **kwargs)\u001b[0m\n\u001b[1;32m    813\u001b[0m         proc = self.repo.git.pull(self, refspec, with_stdout=False, as_process=True,\n\u001b[1;32m    814\u001b[0m                                   universal_newlines=True, v=True, **kwargs)\n\u001b[0;32m--> 815\u001b[0;31m         \u001b[0mres\u001b[0m \u001b[0;34m=\u001b[0m \u001b[0mself\u001b[0m\u001b[0;34m.\u001b[0m\u001b[0m_get_fetch_info_from_stderr\u001b[0m\u001b[0;34m(\u001b[0m\u001b[0mproc\u001b[0m\u001b[0;34m,\u001b[0m \u001b[0mprogress\u001b[0m\u001b[0;34m)\u001b[0m\u001b[0;34m\u001b[0m\u001b[0;34m\u001b[0m\u001b[0m\n\u001b[0m\u001b[1;32m    816\u001b[0m         \u001b[0;32mif\u001b[0m \u001b[0mhasattr\u001b[0m\u001b[0;34m(\u001b[0m\u001b[0mself\u001b[0m\u001b[0;34m.\u001b[0m\u001b[0mrepo\u001b[0m\u001b[0;34m.\u001b[0m\u001b[0modb\u001b[0m\u001b[0;34m,\u001b[0m \u001b[0;34m'update_cache'\u001b[0m\u001b[0;34m)\u001b[0m\u001b[0;34m:\u001b[0m\u001b[0;34m\u001b[0m\u001b[0;34m\u001b[0m\u001b[0m\n\u001b[1;32m    817\u001b[0m             \u001b[0mself\u001b[0m\u001b[0;34m.\u001b[0m\u001b[0mrepo\u001b[0m\u001b[0;34m.\u001b[0m\u001b[0modb\u001b[0m\u001b[0;34m.\u001b[0m\u001b[0mupdate_cache\u001b[0m\u001b[0;34m(\u001b[0m\u001b[0;34m)\u001b[0m\u001b[0;34m\u001b[0m\u001b[0;34m\u001b[0m\u001b[0m\n",
      "\u001b[0;32m~/opt/anaconda3/lib/python3.7/site-packages/git/remote.py\u001b[0m in \u001b[0;36m_get_fetch_info_from_stderr\u001b[0;34m(self, proc, progress)\u001b[0m\n\u001b[1;32m    672\u001b[0m \u001b[0;34m\u001b[0m\u001b[0m\n\u001b[1;32m    673\u001b[0m         \u001b[0mstderr_text\u001b[0m \u001b[0;34m=\u001b[0m \u001b[0mprogress\u001b[0m\u001b[0;34m.\u001b[0m\u001b[0merror_lines\u001b[0m \u001b[0;32mand\u001b[0m \u001b[0;34m'\\n'\u001b[0m\u001b[0;34m.\u001b[0m\u001b[0mjoin\u001b[0m\u001b[0;34m(\u001b[0m\u001b[0mprogress\u001b[0m\u001b[0;34m.\u001b[0m\u001b[0merror_lines\u001b[0m\u001b[0;34m)\u001b[0m \u001b[0;32mor\u001b[0m \u001b[0;34m''\u001b[0m\u001b[0;34m\u001b[0m\u001b[0;34m\u001b[0m\u001b[0m\n\u001b[0;32m--> 674\u001b[0;31m         \u001b[0mproc\u001b[0m\u001b[0;34m.\u001b[0m\u001b[0mwait\u001b[0m\u001b[0;34m(\u001b[0m\u001b[0mstderr\u001b[0m\u001b[0;34m=\u001b[0m\u001b[0mstderr_text\u001b[0m\u001b[0;34m)\u001b[0m\u001b[0;34m\u001b[0m\u001b[0;34m\u001b[0m\u001b[0m\n\u001b[0m\u001b[1;32m    675\u001b[0m         \u001b[0;32mif\u001b[0m \u001b[0mstderr_text\u001b[0m\u001b[0;34m:\u001b[0m\u001b[0;34m\u001b[0m\u001b[0;34m\u001b[0m\u001b[0m\n\u001b[1;32m    676\u001b[0m             \u001b[0mlog\u001b[0m\u001b[0;34m.\u001b[0m\u001b[0mwarning\u001b[0m\u001b[0;34m(\u001b[0m\u001b[0;34m\"Error lines received while fetching: %s\"\u001b[0m\u001b[0;34m,\u001b[0m \u001b[0mstderr_text\u001b[0m\u001b[0;34m)\u001b[0m\u001b[0;34m\u001b[0m\u001b[0;34m\u001b[0m\u001b[0m\n",
      "\u001b[0;32m~/opt/anaconda3/lib/python3.7/site-packages/git/cmd.py\u001b[0m in \u001b[0;36mwait\u001b[0;34m(self, stderr)\u001b[0m\n\u001b[1;32m    406\u001b[0m                 \u001b[0merrstr\u001b[0m \u001b[0;34m=\u001b[0m \u001b[0mread_all_from_possibly_closed_stream\u001b[0m\u001b[0;34m(\u001b[0m\u001b[0mself\u001b[0m\u001b[0;34m.\u001b[0m\u001b[0mproc\u001b[0m\u001b[0;34m.\u001b[0m\u001b[0mstderr\u001b[0m\u001b[0;34m)\u001b[0m\u001b[0;34m\u001b[0m\u001b[0;34m\u001b[0m\u001b[0m\n\u001b[1;32m    407\u001b[0m                 \u001b[0mlog\u001b[0m\u001b[0;34m.\u001b[0m\u001b[0mdebug\u001b[0m\u001b[0;34m(\u001b[0m\u001b[0;34m'AutoInterrupt wait stderr: %r'\u001b[0m \u001b[0;34m%\u001b[0m \u001b[0;34m(\u001b[0m\u001b[0merrstr\u001b[0m\u001b[0;34m,\u001b[0m\u001b[0;34m)\u001b[0m\u001b[0;34m)\u001b[0m\u001b[0;34m\u001b[0m\u001b[0;34m\u001b[0m\u001b[0m\n\u001b[0;32m--> 408\u001b[0;31m                 \u001b[0;32mraise\u001b[0m \u001b[0mGitCommandError\u001b[0m\u001b[0;34m(\u001b[0m\u001b[0mself\u001b[0m\u001b[0;34m.\u001b[0m\u001b[0margs\u001b[0m\u001b[0;34m,\u001b[0m \u001b[0mstatus\u001b[0m\u001b[0;34m,\u001b[0m \u001b[0merrstr\u001b[0m\u001b[0;34m)\u001b[0m\u001b[0;34m\u001b[0m\u001b[0;34m\u001b[0m\u001b[0m\n\u001b[0m\u001b[1;32m    409\u001b[0m             \u001b[0;31m# END status handling\u001b[0m\u001b[0;34m\u001b[0m\u001b[0;34m\u001b[0m\u001b[0;34m\u001b[0m\u001b[0m\n\u001b[1;32m    410\u001b[0m             \u001b[0;32mreturn\u001b[0m \u001b[0mstatus\u001b[0m\u001b[0;34m\u001b[0m\u001b[0;34m\u001b[0m\u001b[0m\n",
      "\u001b[0;31mGitCommandError\u001b[0m: Cmd('git') failed due to: exit code(1)\n  cmdline: git pull -v origin\n  stderr: 'fatal: unable to access 'https://github.com/jjbl99/kidney-game.git/': Failed to connect to github.com port 443: Operation timed out'"
     ]
    }
   ],
   "source": [
    "frequency = 2\n",
    "T = 15\n",
    "\n",
    "for t in range(T):\n",
    "    git_pull()\n",
    "    file = open(os.path.join(p_PATH,'status.txt'),\"r\")\n",
    "    instruction = next(file)\n",
    "    file.close()\n",
    "    \n",
    "    while str(instruction.split()[0]) != \"nature\": # TRY AND READ DIRECTLY \n",
    "        # wait until nature played\n",
    "        git_pull()\n",
    "        file = open(os.path.join(p_PATH,'status.txt'),\"r\")\n",
    "        instruction = next(file)\n",
    "        file.close()\n",
    "    \n",
    "    print('youre in')\n",
    "    print(t)\n",
    "    market = get_market(p_PATH) # function coded in PUBLIC_market.py where all functions are\n",
    "    \n",
    "    if t % frequency == 0:\n",
    "        G_coord = adj_to_coord(market.graph)\n",
    "        match = recursive_KEP(G_coord,market.graph,market.n,market.K,market.L,market.M,market.NDDs)\n",
    "\n",
    "        submit(p_PATH, t, match) # If match == [], go to next step, else pairs in match are taken away\n",
    "    else:\n",
    "        submit(p_PATH, t)"
   ]
  },
  {
   "cell_type": "code",
   "execution_count": null,
   "metadata": {},
   "outputs": [],
   "source": [
    "git_pull()\n",
    "# function status that pulls, and: \n",
    "    # prints status.txt, tells you how many period left you have to play\n",
    "    # if t == T, prints : \"you finished playing, to see measures of your performance, call the function market.stats()\"\n",
    "    # \"to start a new game, use the function new_game(). If you are satisfied with your submission and want to submit it \n",
    "    # as your final submission use end_game(). CAREFUL: you will not be able to play after that\""
   ]
  },
  {
   "cell_type": "code",
   "execution_count": null,
   "metadata": {},
   "outputs": [],
   "source": [
    "# file = open(p_PATH+'/status.txt',\"r\")\n",
    "# instruction = next(file)\n",
    "# instruction.split()"
   ]
  },
  {
   "cell_type": "code",
   "execution_count": null,
   "metadata": {},
   "outputs": [],
   "source": [
    "# new_game()"
   ]
  },
  {
   "cell_type": "code",
   "execution_count": null,
   "metadata": {},
   "outputs": [],
   "source": [
    "# this function let the nature knows that this is your final submission. CAREFUL: YOU CANNOT GO BACK\n",
    "# end_game()"
   ]
  },
  {
   "cell_type": "markdown",
   "metadata": {},
   "source": [
    "# To do still \n",
    "- Function that computes statistics automatically \n",
    "- improve exit rate \n",
    "- what should be black box (easier: what shouldn't be? K,L,M, initial size etc. Should be black box: arrival and exit processes). Process to decide whether patients are matched or not can (should?) be black box. Do we want to help them by avoiding cold start (i.e. by giving them P_stats?). \n",
    "- How can we make the game dynamic? Need to be able to communicate with a server where the info is stored. \n",
    "\n",
    "# Idea of the game \n",
    "\n",
    "You have an initial market. \n",
    "At each period, the market gets updated (new arrival, deaths). \n",
    "\n",
    "You (the player) can choose to match some people or not. To do so you simply do m.market_update(match) where match is a vector of 0s and 1s of size corresponding to total number of edges (including to NDDs). CAREFUL: it is important that the match vector you submit coincides with the G_coord obtained through adj_to_coord().\n",
    "\n",
    "GOAL: in a T period game, match as many patients as possible. \n",
    "\n",
    "\n",
    "ADD SELF.T TO MARKET AND TO MARKET2CSV"
   ]
  },
  {
   "cell_type": "code",
   "execution_count": null,
   "metadata": {},
   "outputs": [],
   "source": []
  }
 ],
 "metadata": {
  "environment": {
   "name": "common-cpu.m65",
   "type": "gcloud",
   "uri": "gcr.io/deeplearning-platform-release/base-cpu:m65"
  },
  "kernelspec": {
   "display_name": "Python 3",
   "language": "python",
   "name": "python3"
  },
  "language_info": {
   "codemirror_mode": {
    "name": "ipython",
    "version": 3
   },
   "file_extension": ".py",
   "mimetype": "text/x-python",
   "name": "python",
   "nbconvert_exporter": "python",
   "pygments_lexer": "ipython3",
   "version": "3.7.10"
  }
 },
 "nbformat": 4,
 "nbformat_minor": 4
}
